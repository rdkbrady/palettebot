{
 "cells": [
  {
   "cell_type": "code",
   "execution_count": 3,
   "metadata": {},
   "outputs": [],
   "source": [
    "from PIL import Image\n",
    "from numpy import random\n",
    "import numpy as np\n",
    "import scipy.misc\n",
    "import matplotlib.pyplot as plt\n",
    "import imageio\n",
    "import colorsys"
   ]
  },
  {
   "cell_type": "code",
   "execution_count": null,
   "metadata": {},
   "outputs": [],
   "source": [
    "def colorsort(colors):\n",
    "    hues = [colorsys.rgb_to_hls(*[x[y] / 255.0 for y in range(3)])[0] for x in colors]\n",
    "    return [colors[x] for x in np.argsort(hues)]"
   ]
  },
  {
   "cell_type": "code",
   "execution_count": 4,
   "metadata": {},
   "outputs": [],
   "source": [
    "def tricolor(colors, width = 640, height = 480):\n",
    "    # Image size\n",
    "    channels = 3\n",
    "\n",
    "    # Create an empty image\n",
    "    img = np.zeros((height, width, channels), dtype=np.uint8)\n",
    "\n",
    "#     colors = []\n",
    "#     for i in range(3):\n",
    "#         colors.append([random.randint(0,256) for x in range(3)])\n",
    "\n",
    "    orientation = random.randint(0,2)\n",
    "        \n",
    "    for x in range(width):\n",
    "        for y in range(height):\n",
    "            if orientation == 1:\n",
    "                img[y][x] = colors[int(3 * x / width)]\n",
    "            else:\n",
    "                img[y][x] = colors[int(3 * y / height)]\n",
    "\n",
    "    imageio.imwrite('outfile.png', img)"
   ]
  },
  {
   "cell_type": "code",
   "execution_count": 117,
   "metadata": {},
   "outputs": [],
   "source": [
    "def palette(colors, width = 64, height = 64):\n",
    "    # Image size\n",
    "    channels = 3\n",
    "    colors = colorsort(colors)\n",
    "    \n",
    "    # Create an empty image\n",
    "    img = np.zeros((height, width * len(colors), channels), dtype=np.uint8)\n",
    "\n",
    "    for x in range(width * len(colors)):\n",
    "        for y in range(height):\n",
    "            img[y][x] = colors[int(x / width)]\n",
    "            \n",
    "    imageio.imwrite('outfile.png', img)"
   ]
  },
  {
   "cell_type": "code",
   "execution_count": 5,
   "metadata": {},
   "outputs": [],
   "source": [
    "def rothko(colors, width = 480, height = 480):\n",
    "    channels = 3\n",
    "\n",
    "\n",
    "    # base\n",
    "    img = np.zeros((height, width, channels), dtype=np.uint8)\n",
    "    base_col = [int((255 * x)) for x in list(colorsys.hsv_to_rgb(random.uniform(0,1), random.uniform(0,0.8), random.uniform(0,0.5)))]\n",
    "    for x in range(width):\n",
    "        for y in range(height):\n",
    "            img[y][x] = base_col\n",
    "            \n",
    "    # number of colors (1-4)\n",
    "#     num_col = random.randint(1,4)\n",
    "    num_col = len(colors)\n",
    "    \n",
    "    # width padding\n",
    "    width_pad = int(width * random.uniform(0.05, 0.1))\n",
    "    \n",
    "    # height padding\n",
    "    buckets = [0] * (num_col * 2 + 1)\n",
    "    for i in range(num_col * 2 + 1):\n",
    "        if (i % 2) == 0:\n",
    "            buckets[i] = random.uniform(0.2, 0.1)\n",
    "        else: \n",
    "            buckets[i] = random.lognormal(0.8)\n",
    "    buckets = np.cumsum(buckets)\n",
    "    buckets = buckets * height / max(buckets)\n",
    "    buckets = buckets.astype(int)\n",
    "    \n",
    "    reorder = random.randint(0,10)\n",
    "    \n",
    "    for x in range(width_pad, width - width_pad):\n",
    "        for y in range(height):\n",
    "            col_select = np.argmax(buckets > y) + 1\n",
    "            if (col_select % 2) != 1:\n",
    "                img[y][x] = colors[ ((col_select / 2) + reorder) % num_col]\n",
    "    imageio.imwrite('outfile.png', img)"
   ]
  },
  {
   "cell_type": "code",
   "execution_count": 6,
   "metadata": {},
   "outputs": [],
   "source": [
    "def triad():\n",
    "    offset = random.uniform(0.1, 0.4)\n",
    "    \n",
    "    hue = np.zeros(3)\n",
    "    hue[1] = random.uniform(-1,1)\n",
    "    hue[0] = hue[1] + offset\n",
    "    hue[2] = hue[1] - offset\n",
    "    \n",
    "    colors = []\n",
    "    for i in range(3):\n",
    "        if i == 1:\n",
    "            saturation = random.uniform(0.8,0.1)\n",
    "            value = random.uniform(0.8,1)\n",
    "        else: \n",
    "            saturation = random.uniform(0.1,0.8)\n",
    "            value = random.uniform(0.2, 0.8)\n",
    "\n",
    "        colors.append([int((255 * x)) for x in list(colorsys.hsv_to_rgb(hue[i], saturation, value))])\n",
    "\n",
    "    return(colors)\n",
    "    "
   ]
  },
  {
   "cell_type": "code",
   "execution_count": 155,
   "metadata": {},
   "outputs": [],
   "source": [
    "rothko(triad())"
   ]
  },
  {
   "cell_type": "code",
   "execution_count": 130,
   "metadata": {},
   "outputs": [
    {
     "data": {
      "text/plain": [
       "0.3774996185732141"
      ]
     },
     "execution_count": 130,
     "metadata": {},
     "output_type": "execute_result"
    }
   ],
   "source": [
    "random.lognormal(0.8)"
   ]
  },
  {
   "cell_type": "code",
   "execution_count": 9,
   "metadata": {},
   "outputs": [],
   "source": [
    "import requests\n",
    "from io import BytesIO\n",
    "from sklearn.cluster import KMeans\n",
    "from sklearn.mixture import GaussianMixture\n",
    "import numpy as np\n",
    "from PIL import Image"
   ]
  },
  {
   "cell_type": "code",
   "execution_count": 64,
   "metadata": {},
   "outputs": [
    {
     "name": "stderr",
     "output_type": "stream",
     "text": [
      "/Users/RFBZ/miniconda3/envs/colors/lib/python2.7/site-packages/urllib3/connectionpool.py:847: InsecureRequestWarning: Unverified HTTPS request is being made. Adding certificate verification is strongly advised. See: https://urllib3.readthedocs.io/en/latest/advanced-usage.html#ssl-warnings\n",
      "  InsecureRequestWarning)\n"
     ]
    }
   ],
   "source": [
    "response = requests.get('https://i.redd.it/6sfs5vgo1jd21.jpg', verify=False)\n",
    "img = Image.open(BytesIO(response.content))\n",
    "pixels = list(img.getdata())\n",
    "sample_indices = list(random.choice(len(pixels), size = 10000, replace=False))\n",
    "sample_pixels = [pixels[i] for i in sample_indices]"
   ]
  },
  {
   "cell_type": "code",
   "execution_count": 68,
   "metadata": {},
   "outputs": [],
   "source": [
    "kmeans = KMeans(n_clusters=7, random_state=0).fit(sample_pixels)\n",
    "kmeans_palette = [[int(x) for x in kmeans.cluster_centers_[y]] for y in range(7)]\n",
    "palette(kmeans_palette)"
   ]
  },
  {
   "cell_type": "code",
   "execution_count": 60,
   "metadata": {},
   "outputs": [],
   "source": [
    "\n",
    "gmm = GaussianMixture(n_components = 5).fit(sample_pixels)\n",
    "centers = []\n",
    "for i in range(gmm.n_components):\n",
    "    density = scipy.stats.multivariate_normal(cov=gmm.covariances_[i], mean=gmm.means_[i]).logpdf(gmm_sample)\n",
    "    centers.append(gmm_sample[np.argmax(density)])\n",
    "tricolor([centers[i] for i in range(3)])\n",
    "palette(centers)"
   ]
  },
  {
   "cell_type": "code",
   "execution_count": 81,
   "metadata": {},
   "outputs": [
    {
     "data": {
      "text/plain": [
       "[(0.16666666666666666, 0, 28),\n",
       " (0.16666666666666666, 0, 223),\n",
       " (0.5, 0, 153),\n",
       " (0.16666666666666666, 0, 109),\n",
       " (0.5, 0, 128),\n",
       " (0.5, 0, 74),\n",
       " (0.16666666666666666, 0, 68)]"
      ]
     },
     "execution_count": 81,
     "metadata": {},
     "output_type": "execute_result"
    }
   ],
   "source": [
    "[colorsys.rgb_to_hsv(*x) for x in kmeans_palette]"
   ]
  },
  {
   "cell_type": "code",
   "execution_count": 86,
   "metadata": {},
   "outputs": [
    {
     "data": {
      "text/plain": [
       "(0.16666666666666666, 0, 28)"
      ]
     },
     "execution_count": 86,
     "metadata": {},
     "output_type": "execute_result"
    }
   ],
   "source": [
    "colorsys.rgb_to_hsv(*kmeans_palette[0])"
   ]
  },
  {
   "cell_type": "code",
   "execution_count": 106,
   "metadata": {},
   "outputs": [
    {
     "ename": "IndexError",
     "evalue": "list index out of range",
     "output_type": "error",
     "traceback": [
      "\u001b[0;31m---------------------------------------------------------------------------\u001b[0m",
      "\u001b[0;31mIndexError\u001b[0m                                Traceback (most recent call last)",
      "\u001b[0;32m<ipython-input-106-485109af2996>\u001b[0m in \u001b[0;36m<module>\u001b[0;34m()\u001b[0m\n\u001b[1;32m      1\u001b[0m \u001b[0mhues\u001b[0m \u001b[0;34m=\u001b[0m \u001b[0;34m[\u001b[0m\u001b[0mcolorsys\u001b[0m\u001b[0;34m.\u001b[0m\u001b[0mrgb_to_hls\u001b[0m\u001b[0;34m(\u001b[0m\u001b[0;34m*\u001b[0m\u001b[0;34m[\u001b[0m\u001b[0mx\u001b[0m\u001b[0;34m[\u001b[0m\u001b[0my\u001b[0m\u001b[0;34m]\u001b[0m \u001b[0;34m/\u001b[0m \u001b[0;36m255.0\u001b[0m \u001b[0;32mfor\u001b[0m \u001b[0my\u001b[0m \u001b[0;32min\u001b[0m \u001b[0mrange\u001b[0m\u001b[0;34m(\u001b[0m\u001b[0;36m3\u001b[0m\u001b[0;34m)\u001b[0m\u001b[0;34m]\u001b[0m\u001b[0;34m)\u001b[0m\u001b[0;34m[\u001b[0m\u001b[0;36m0\u001b[0m\u001b[0;34m]\u001b[0m \u001b[0;32mfor\u001b[0m \u001b[0mx\u001b[0m \u001b[0;32min\u001b[0m \u001b[0mkmeans_palette\u001b[0m\u001b[0;34m]\u001b[0m\u001b[0;34m\u001b[0m\u001b[0m\n\u001b[0;32m----> 2\u001b[0;31m \u001b[0;34m[\u001b[0m\u001b[0mcenters\u001b[0m\u001b[0;34m[\u001b[0m\u001b[0mx\u001b[0m\u001b[0;34m]\u001b[0m \u001b[0;32mfor\u001b[0m \u001b[0mx\u001b[0m \u001b[0;32min\u001b[0m \u001b[0mnp\u001b[0m\u001b[0;34m.\u001b[0m\u001b[0margsort\u001b[0m\u001b[0;34m(\u001b[0m\u001b[0mhues\u001b[0m\u001b[0;34m)\u001b[0m\u001b[0;34m]\u001b[0m\u001b[0;34m\u001b[0m\u001b[0m\n\u001b[0m",
      "\u001b[0;31mIndexError\u001b[0m: list index out of range"
     ]
    }
   ],
   "source": [
    "hues = [colorsys.rgb_to_hls(*[x[y] / 255.0 for y in range(3)])[0] for x in kmeans_palette]\n"
   ]
  },
  {
   "cell_type": "code",
   "execution_count": 111,
   "metadata": {},
   "outputs": [],
   "source": []
  },
  {
   "cell_type": "code",
   "execution_count": 109,
   "metadata": {},
   "outputs": [
    {
     "data": {
      "text/plain": [
       "[(34, 72, 13), (129, 138, 153), (12, 65, 99), (16, 53, 0), (254, 220, 183)]"
      ]
     },
     "execution_count": 109,
     "metadata": {},
     "output_type": "execute_result"
    }
   ],
   "source": [
    "centers"
   ]
  },
  {
   "cell_type": "code",
   "execution_count": 114,
   "metadata": {},
   "outputs": [],
   "source": []
  },
  {
   "cell_type": "code",
   "execution_count": 118,
   "metadata": {},
   "outputs": [],
   "source": [
    "palette(kmeans_palette)"
   ]
  },
  {
   "cell_type": "code",
   "execution_count": null,
   "metadata": {},
   "outputs": [],
   "source": []
  }
 ],
 "metadata": {
  "kernelspec": {
   "display_name": "Python [conda env:colors]",
   "language": "python",
   "name": "conda-env-colors-py"
  },
  "language_info": {
   "codemirror_mode": {
    "name": "ipython",
    "version": 2
   },
   "file_extension": ".py",
   "mimetype": "text/x-python",
   "name": "python",
   "nbconvert_exporter": "python",
   "pygments_lexer": "ipython2",
   "version": "2.7.15"
  }
 },
 "nbformat": 4,
 "nbformat_minor": 2
}
